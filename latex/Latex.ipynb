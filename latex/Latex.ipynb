{
 "cells": [
  {
   "cell_type": "code",
   "execution_count": 23,
   "metadata": {},
   "outputs": [
    {
     "ename": "OperationalError",
     "evalue": "unable to open database file",
     "output_type": "error",
     "traceback": [
      "\u001b[0;31m---------------------------------------------------------------------------\u001b[0m",
      "\u001b[0;31mOperationalError\u001b[0m                          Traceback (most recent call last)",
      "\u001b[0;32m<ipython-input-23-4082362f1e42>\u001b[0m in \u001b[0;36m<module>\u001b[0;34m\u001b[0m\n\u001b[1;32m     31\u001b[0m \u001b[0;34m\u001b[0m\u001b[0m\n\u001b[1;32m     32\u001b[0m \u001b[0mname\u001b[0m \u001b[0;34m=\u001b[0m \u001b[0;34m'/Users/johan/Documents/Programming/skogsbrand/db.sqlite3'\u001b[0m\u001b[0;34m\u001b[0m\u001b[0;34m\u001b[0m\u001b[0m\n\u001b[0;32m---> 33\u001b[0;31m \u001b[0mdb\u001b[0m \u001b[0;34m=\u001b[0m \u001b[0mSQLiteDB\u001b[0m\u001b[0;34m(\u001b[0m\u001b[0mname\u001b[0m\u001b[0;34m)\u001b[0m\u001b[0;34m\u001b[0m\u001b[0;34m\u001b[0m\u001b[0m\n\u001b[0m\u001b[1;32m     34\u001b[0m \u001b[0mdf\u001b[0m \u001b[0;34m=\u001b[0m \u001b[0mdb\u001b[0m\u001b[0;34m.\u001b[0m\u001b[0mread\u001b[0m\u001b[0;34m(\u001b[0m\u001b[0;34m\"SELECT * FROM fires_fire\"\u001b[0m\u001b[0;34m)\u001b[0m\u001b[0;34m\u001b[0m\u001b[0;34m\u001b[0m\u001b[0m\n\u001b[1;32m     35\u001b[0m \u001b[0mdb\u001b[0m\u001b[0;34m.\u001b[0m\u001b[0mdisconnect\u001b[0m\u001b[0;34m\u001b[0m\u001b[0;34m\u001b[0m\u001b[0m\n",
      "\u001b[0;32m<ipython-input-23-4082362f1e42>\u001b[0m in \u001b[0;36m__init__\u001b[0;34m(self, db_name)\u001b[0m\n\u001b[1;32m      4\u001b[0m \u001b[0;32mclass\u001b[0m \u001b[0mDatabase\u001b[0m\u001b[0;34m(\u001b[0m\u001b[0;34m)\u001b[0m\u001b[0;34m:\u001b[0m\u001b[0;34m\u001b[0m\u001b[0;34m\u001b[0m\u001b[0m\n\u001b[1;32m      5\u001b[0m \u001b[0;34m\u001b[0m\u001b[0m\n\u001b[0;32m----> 6\u001b[0;31m     \u001b[0;32mdef\u001b[0m \u001b[0m__init__\u001b[0m\u001b[0;34m(\u001b[0m\u001b[0mself\u001b[0m\u001b[0;34m,\u001b[0m \u001b[0mdb_name\u001b[0m\u001b[0;34m)\u001b[0m\u001b[0;34m:\u001b[0m \u001b[0mself\u001b[0m\u001b[0;34m.\u001b[0m\u001b[0mconnection\u001b[0m \u001b[0;34m=\u001b[0m \u001b[0mself\u001b[0m\u001b[0;34m.\u001b[0m\u001b[0mconnect\u001b[0m\u001b[0;34m(\u001b[0m\u001b[0mdb_name\u001b[0m\u001b[0;34m)\u001b[0m\u001b[0;34m\u001b[0m\u001b[0;34m\u001b[0m\u001b[0m\n\u001b[0m\u001b[1;32m      7\u001b[0m \u001b[0;34m\u001b[0m\u001b[0m\n\u001b[1;32m      8\u001b[0m     \u001b[0;32mdef\u001b[0m \u001b[0mread\u001b[0m\u001b[0;34m(\u001b[0m\u001b[0mself\u001b[0m\u001b[0;34m,\u001b[0m \u001b[0msql\u001b[0m\u001b[0;34m)\u001b[0m\u001b[0;34m:\u001b[0m \u001b[0;32mpass\u001b[0m\u001b[0;34m\u001b[0m\u001b[0;34m\u001b[0m\u001b[0m\n",
      "\u001b[0;32m<ipython-input-23-4082362f1e42>\u001b[0m in \u001b[0;36mconnect\u001b[0;34m(self, db_name)\u001b[0m\n\u001b[1;32m     19\u001b[0m \u001b[0;32mclass\u001b[0m \u001b[0mSQLiteDB\u001b[0m\u001b[0;34m(\u001b[0m\u001b[0mDatabase\u001b[0m\u001b[0;34m)\u001b[0m\u001b[0;34m:\u001b[0m\u001b[0;34m\u001b[0m\u001b[0;34m\u001b[0m\u001b[0m\n\u001b[1;32m     20\u001b[0m \u001b[0;34m\u001b[0m\u001b[0m\n\u001b[0;32m---> 21\u001b[0;31m     \u001b[0;32mdef\u001b[0m \u001b[0mconnect\u001b[0m\u001b[0;34m(\u001b[0m\u001b[0mself\u001b[0m\u001b[0;34m,\u001b[0m\u001b[0mdb_name\u001b[0m\u001b[0;34m)\u001b[0m\u001b[0;34m:\u001b[0m \u001b[0;32mreturn\u001b[0m \u001b[0msqlite3\u001b[0m\u001b[0;34m.\u001b[0m\u001b[0mconnect\u001b[0m\u001b[0;34m(\u001b[0m\u001b[0mdb_name\u001b[0m\u001b[0;34m)\u001b[0m\u001b[0;34m\u001b[0m\u001b[0;34m\u001b[0m\u001b[0m\n\u001b[0m\u001b[1;32m     22\u001b[0m \u001b[0;34m\u001b[0m\u001b[0m\n\u001b[1;32m     23\u001b[0m     \u001b[0;32mdef\u001b[0m \u001b[0mread\u001b[0m\u001b[0;34m(\u001b[0m\u001b[0mself\u001b[0m\u001b[0;34m,\u001b[0m \u001b[0msql\u001b[0m\u001b[0;34m)\u001b[0m\u001b[0;34m:\u001b[0m \u001b[0;32mreturn\u001b[0m \u001b[0mpd\u001b[0m\u001b[0;34m.\u001b[0m\u001b[0mread_sql_query\u001b[0m\u001b[0;34m(\u001b[0m\u001b[0msql\u001b[0m\u001b[0;34m,\u001b[0m \u001b[0mself\u001b[0m\u001b[0;34m.\u001b[0m\u001b[0mconnection\u001b[0m\u001b[0;34m,\u001b[0m\u001b[0;34m)\u001b[0m\u001b[0;34m\u001b[0m\u001b[0;34m\u001b[0m\u001b[0m\n",
      "\u001b[0;31mOperationalError\u001b[0m: unable to open database file"
     ]
    }
   ],
   "source": [
    "import re\n",
    "import sqlite3\n",
    "import pandas as pd\n",
    "class Database():\n",
    "    \n",
    "    def __init__(self, db_name): self.connection = self.connect(db_name)\n",
    "    \n",
    "    def read(self, sql): pass\n",
    "    \n",
    "    def connect(self,db_name): pass\n",
    "    \n",
    "    def insert(self, table_name, dataframe): print(\"yaa, inserted, get some!\")\n",
    "        \n",
    "    def disconnect(self): pass\n",
    "        \n",
    "    def __del__(self): self.disconnect()\n",
    "        \n",
    "\n",
    "class SQLiteDB(Database):\n",
    "    \n",
    "    def connect(self,db_name): return sqlite3.connect(db_name)\n",
    "    \n",
    "    def read(self, sql): return pd.read_sql_query(sql, self.connection,)\n",
    "    \n",
    "    def insert(self, table_name, dataframe):\n",
    "        dataframe.to_sql(table_name, self.connection,\n",
    "                         if_exists=\"append\", index = False)\n",
    "        \n",
    "    def disconnect(self): self.connection.close()\n",
    "    \n",
    "    \n",
    "name = '/Users/johan/Documents/Programming/skogsbrand/db.sqlite3'\n",
    "db = SQLiteDB(name)\n",
    "df = db.read(\"SELECT * FROM fires_fire\")\n",
    "db.disconnect\n",
    "display(df)"
   ]
  },
  {
   "cell_type": "code",
   "execution_count": 24,
   "metadata": {
    "scrolled": true
   },
   "outputs": [
    {
     "ename": "NameError",
     "evalue": "name 'df' is not defined",
     "output_type": "error",
     "traceback": [
      "\u001b[0;31m---------------------------------------------------------------------------\u001b[0m",
      "\u001b[0;31mNameError\u001b[0m                                 Traceback (most recent call last)",
      "\u001b[0;32m<ipython-input-24-db850f08b875>\u001b[0m in \u001b[0;36m<module>\u001b[0;34m\u001b[0m\n\u001b[0;32m----> 1\u001b[0;31m \u001b[0;32mfor\u001b[0m \u001b[0mindex\u001b[0m\u001b[0;34m,\u001b[0m \u001b[0mrow\u001b[0m \u001b[0;32min\u001b[0m \u001b[0mdf\u001b[0m\u001b[0;34m.\u001b[0m\u001b[0miterrows\u001b[0m\u001b[0;34m(\u001b[0m\u001b[0;34m)\u001b[0m\u001b[0;34m:\u001b[0m\u001b[0;34m\u001b[0m\u001b[0;34m\u001b[0m\u001b[0m\n\u001b[0m\u001b[1;32m      2\u001b[0m     \u001b[0;32mif\u001b[0m \u001b[0mrow\u001b[0m\u001b[0;34m[\u001b[0m\u001b[0;34m'quality'\u001b[0m\u001b[0;34m]\u001b[0m \u001b[0;34m>=\u001b[0m \u001b[0;36m2\u001b[0m\u001b[0;34m:\u001b[0m\u001b[0;34m\u001b[0m\u001b[0;34m\u001b[0m\u001b[0m\n\u001b[1;32m      3\u001b[0m \u001b[0;34m\u001b[0m\u001b[0m\n\u001b[1;32m      4\u001b[0m         string = \"\"\"\n\u001b[1;32m      5\u001b[0m         \u001b[0;31m\\\u001b[0m\u001b[0mnewpage\u001b[0m\u001b[0;34m\u001b[0m\u001b[0;34m\u001b[0m\u001b[0m\n",
      "\u001b[0;31mNameError\u001b[0m: name 'df' is not defined"
     ]
    }
   ],
   "source": [
    "for index, row in df.iterrows():\n",
    "    if row['quality'] >= 2:\n",
    "\n",
    "        string = \"\"\"\n",
    "        \\newpage\n",
    "        \\subsubsection{Fire !!id}\n",
    "\n",
    "        \\begin{table}[h!]\n",
    "        \\begin{tabular}{@{}lllll@{}}\n",
    "        \\toprule\n",
    "        id   & Name   & Hectare   & CenterX   & CenterY   \\\\ \\midrule\n",
    "        !!id & !!name & !!hectare & !!centerX & !!centerY\n",
    "        \\end{tabular}\n",
    "        \\end{table}\n",
    "\n",
    "        \\begin{table}[h!]\n",
    "        \\begin{tabular}{@{}llllll@{}}\n",
    "        \\toprule\n",
    "        Patch & X         & Y         & ParkingX & ParkingX & Walk(m) \\\\ \\midrule\n",
    "        1     & !!burntX1 & !!burntY1 & !!burntParkX1 & !!burntParkX1 & !!Walk1 \\\\\n",
    "        2     & !!burntX2 & !!burntY2 & !!burntParkX2 & !!burntParkX2 & !!Walk2 \\\\\n",
    "        3     & !!burntX3 & !!burntY3 & !!burntParkX3 & !!burntParkY3 & !!Walk3 \\\\\n",
    "        4     & !!burntX4 & !!burntY4 & !!burntParkX4 & !!burntParkY4 & !!Walk4 \\\\\n",
    "        5     & !!burntX5 & !!burntY5 & !!burntParkX5 & !!burntParkY5 & !!Walk5 \\\\ \\bottomrule\n",
    "        \\end{tabular}\n",
    "        \\end{table}\n",
    "\n",
    "\n",
    "        \\begin{table}[h!]\n",
    "        \\begin{tabular}{@{}llllll@{}}\n",
    "        \\toprule\n",
    "        Patch & X         & Y         & ParkingX & ParkingY & Walk(m) \\\\ \\midrule\n",
    "        1     & !!unburntX1 & !!unburntY1 & !!unburntParkX1 & !!unburntParkX1 & !!Walk1 \\\\\n",
    "        2     & !!unburntX2 & !!unburntY2 & !!unburntParkX2 & !!unburntParkX2 & !!Walk2 \\\\\n",
    "        3     & !!unburntX3 & !!unburntY3 & !!unburntParkX3 & !!unburntParkY3 & !!Walk3 \\\\\n",
    "        4     & !!unburntX4 & !!unburntY4 & !!unburntParkX4 & !!unburntParkY4 & !!Walk4 \\\\\n",
    "        5     & !!unburntX5 & !!unburntY5 & !!unburntParkX5 & !!unburntParkY5 & !!Walk5 \\\\ \\bottomrule\n",
    "        \\end{tabular}\n",
    "        \\end{table}\n",
    "\n",
    "        \"\"\"\n",
    "\n",
    "        string.replace(\"!!id\", str(index))\n",
    "        print(string)\n",
    "    exit\n"
   ]
  },
  {
   "cell_type": "code",
   "execution_count": 25,
   "metadata": {},
   "outputs": [
    {
     "ename": "SyntaxError",
     "evalue": "unexpected EOF while parsing (<ipython-input-25-29f1b26f56be>, line 6)",
     "output_type": "error",
     "traceback": [
      "\u001b[0;36m  File \u001b[0;32m\"<ipython-input-25-29f1b26f56be>\"\u001b[0;36m, line \u001b[0;32m6\u001b[0m\n\u001b[0;31m    print(s.close()\u001b[0m\n\u001b[0m                   ^\u001b[0m\n\u001b[0;31mSyntaxError\u001b[0m\u001b[0;31m:\u001b[0m unexpected EOF while parsing\n"
     ]
    }
   ],
   "source": [
    "import string\n",
    "s = open(\"./template.txt\", \"r+\")\n",
    "for line in s.readlines():\n",
    "    line.replace(line, '!!id','5000')\n",
    "    \n",
    "print(s.close()"
   ]
  },
  {
   "cell_type": "code",
   "execution_count": 46,
   "metadata": {},
   "outputs": [],
   "source": [
    "def generate_append(replacements):\n",
    "        with open(\"./template.txt\") as f:\n",
    "            newText = f.read()\n",
    "            for key, value in replacements.items():\n",
    "                newText=newText.replace(key,value)\n",
    "\n",
    "        with open(\"./output.txt\", \"a+\") as f:\n",
    "            f.write(newText)"
   ]
  },
  {
   "cell_type": "code",
   "execution_count": 170,
   "metadata": {
    "scrolled": false
   },
   "outputs": [],
   "source": [
    "name = '/home/johan/Desktop/skogsbrand.sqlite'\n",
    "db = SQLiteDB(name)\n",
    "df = db.read(\"SELECT * FROM skogstyrelsen_brand\")\n",
    "site = db.read(\"SELECT * FROM study_site where rank = 1\")\n",
    "\n",
    "db.disconnect\n",
    "df = df[df.johan_quality >= 2]\n",
    "with open(\"./output.txt\", \"w\") as f: f.write('')\n",
    "    \n",
    "    \n",
    "for index, row in df.iterrows():\n",
    "    walk_control = site.loc[(site.fire_id==row.objectid) & (site.type == 'control')]\n",
    "    walk_burnt = site.loc[(site.fire_id==row.objectid) & (site.type == 'control')]\n",
    "    replacements = {'!!id': str(row.objectid),\n",
    "                    '!!hectare':str(row.gishektar),\n",
    "                    '!!centerX':str(row.centerx),\n",
    "                    '!!centerY':str(row.centery),\n",
    "                    '!!Walk1control':str(walk_control['walk'].values[0]),\n",
    "                    '!!Walk1burnt':str(walk_burnt['walk'].values[0]),\n",
    "                   }\n",
    "    \n",
    "    generate_append(replacements)"
   ]
  },
  {
   "cell_type": "code",
   "execution_count": null,
   "metadata": {},
   "outputs": [],
   "source": []
  },
  {
   "cell_type": "code",
   "execution_count": null,
   "metadata": {},
   "outputs": [],
   "source": []
  }
 ],
 "metadata": {
  "kernelspec": {
   "display_name": "Python 3",
   "language": "python",
   "name": "python3"
  },
  "language_info": {
   "codemirror_mode": {
    "name": "ipython",
    "version": 3
   },
   "file_extension": ".py",
   "mimetype": "text/x-python",
   "name": "python",
   "nbconvert_exporter": "python",
   "pygments_lexer": "ipython3",
   "version": "3.6.8"
  }
 },
 "nbformat": 4,
 "nbformat_minor": 2
}
