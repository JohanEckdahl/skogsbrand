{
 "cells": [
  {
   "cell_type": "code",
   "execution_count": 6,
   "metadata": {
    "scrolled": true
   },
   "outputs": [
    {
     "data": {
      "application/javascript": [
       "IPython.OutputArea.prototype._should_scroll = function(lines) {\n",
       "    return false;\n",
       "}\n"
      ],
      "text/plain": [
       "<IPython.core.display.Javascript object>"
      ]
     },
     "metadata": {},
     "output_type": "display_data"
    }
   ],
   "source": [
    "%%javascript\n",
    "IPython.OutputArea.prototype._should_scroll = function(lines) {\n",
    "    return false;\n",
    "}"
   ]
  },
  {
   "cell_type": "code",
   "execution_count": 7,
   "metadata": {
    "scrolled": true
   },
   "outputs": [],
   "source": [
    "from simpledbf import Dbf5\n",
    "import matplotlib.pyplot as plt\n",
    "%matplotlib inline\n",
    "\n",
    "lines = [625,652,675,698,727,755]"
   ]
  },
  {
   "cell_type": "code",
   "execution_count": 9,
   "metadata": {
    "scrolled": false
   },
   "outputs": [
    {
     "name": "stdout",
     "output_type": "stream",
     "text": [
      "Total fires: 85\n"
     ]
    },
    {
     "data": {
      "text/html": [
       "<div>\n",
       "<style scoped>\n",
       "    .dataframe tbody tr th:only-of-type {\n",
       "        vertical-align: middle;\n",
       "    }\n",
       "\n",
       "    .dataframe tbody tr th {\n",
       "        vertical-align: top;\n",
       "    }\n",
       "\n",
       "    .dataframe thead th {\n",
       "        text-align: right;\n",
       "    }\n",
       "</style>\n",
       "<table border=\"1\" class=\"dataframe\">\n",
       "  <thead>\n",
       "    <tr style=\"text-align: right;\">\n",
       "      <th></th>\n",
       "      <th>NAMN</th>\n",
       "      <th>Producent</th>\n",
       "      <th>GISHektar</th>\n",
       "      <th>Lannamn</th>\n",
       "      <th>CenterX</th>\n",
       "      <th>CenterY</th>\n",
       "      <th>Aktualitet</th>\n",
       "      <th>Kommunnamn</th>\n",
       "      <th>Metod</th>\n",
       "      <th>Kvalitet</th>\n",
       "      <th>Kommentar</th>\n",
       "      <th>OBJECTID</th>\n",
       "      <th>Laddatum</th>\n",
       "      <th>Lopnr</th>\n",
       "      <th>shape_STAr</th>\n",
       "      <th>shape_STLe</th>\n",
       "    </tr>\n",
       "  </thead>\n",
       "  <tbody>\n",
       "    <tr>\n",
       "      <th>2</th>\n",
       "      <td>NaN</td>\n",
       "      <td>Skogsstyrelsen</td>\n",
       "      <td>25</td>\n",
       "      <td>Norrbottens län</td>\n",
       "      <td>7451801</td>\n",
       "      <td>795352</td>\n",
       "      <td>NaN</td>\n",
       "      <td>Gällivare</td>\n",
       "      <td>Manuell kartering - satellit</td>\n",
       "      <td>Granskad - God</td>\n",
       "      <td>Redan karterad med dålig kvalitet</td>\n",
       "      <td>3</td>\n",
       "      <td>2018-11-12</td>\n",
       "      <td>0</td>\n",
       "      <td>252826.302246</td>\n",
       "      <td>2094.482984</td>\n",
       "    </tr>\n",
       "    <tr>\n",
       "      <th>4</th>\n",
       "      <td>NaN</td>\n",
       "      <td>Skogsstyrelsen</td>\n",
       "      <td>7</td>\n",
       "      <td>Norrbottens län</td>\n",
       "      <td>7413872</td>\n",
       "      <td>784183</td>\n",
       "      <td>NaN</td>\n",
       "      <td>Gällivare</td>\n",
       "      <td>Manuell kartering - satellit</td>\n",
       "      <td>Granskad - God</td>\n",
       "      <td>NaN</td>\n",
       "      <td>5</td>\n",
       "      <td>2018-11-12</td>\n",
       "      <td>0</td>\n",
       "      <td>70582.433105</td>\n",
       "      <td>1137.325233</td>\n",
       "    </tr>\n",
       "    <tr>\n",
       "      <th>8</th>\n",
       "      <td>NaN</td>\n",
       "      <td>Skogsstyrelsen</td>\n",
       "      <td>11</td>\n",
       "      <td>Norrbottens län</td>\n",
       "      <td>7413932</td>\n",
       "      <td>680313</td>\n",
       "      <td>NaN</td>\n",
       "      <td>Jokkmokk</td>\n",
       "      <td>Manuell kartering - satellit</td>\n",
       "      <td>Granskad - God</td>\n",
       "      <td>NaN</td>\n",
       "      <td>9</td>\n",
       "      <td>2018-11-12</td>\n",
       "      <td>0</td>\n",
       "      <td>109904.416504</td>\n",
       "      <td>1483.892367</td>\n",
       "    </tr>\n",
       "    <tr>\n",
       "      <th>10</th>\n",
       "      <td>NaN</td>\n",
       "      <td>Skogsstyrelsen</td>\n",
       "      <td>10</td>\n",
       "      <td>Norrbottens län</td>\n",
       "      <td>7385089</td>\n",
       "      <td>761983</td>\n",
       "      <td>NaN</td>\n",
       "      <td>Jokkmokk</td>\n",
       "      <td>Manuell kartering - satellit</td>\n",
       "      <td>Granskad - God</td>\n",
       "      <td>NaN</td>\n",
       "      <td>11</td>\n",
       "      <td>2018-11-12</td>\n",
       "      <td>0</td>\n",
       "      <td>99592.334473</td>\n",
       "      <td>1353.843407</td>\n",
       "    </tr>\n",
       "    <tr>\n",
       "      <th>15</th>\n",
       "      <td>NaN</td>\n",
       "      <td>Skogsstyrelsen</td>\n",
       "      <td>97</td>\n",
       "      <td>Västerbottens län</td>\n",
       "      <td>7234732</td>\n",
       "      <td>754306</td>\n",
       "      <td>NaN</td>\n",
       "      <td>Skellefteå</td>\n",
       "      <td>Manuell kartering - satellit</td>\n",
       "      <td>Granskad - God</td>\n",
       "      <td>Utökning av UngBrandomrade_180810. Trol återan...</td>\n",
       "      <td>16</td>\n",
       "      <td>2018-11-12</td>\n",
       "      <td>0</td>\n",
       "      <td>974801.870117</td>\n",
       "      <td>5030.334674</td>\n",
       "    </tr>\n",
       "  </tbody>\n",
       "</table>\n",
       "</div>"
      ],
      "text/plain": [
       "   NAMN       Producent  GISHektar            Lannamn  CenterX  CenterY  \\\n",
       "2   NaN  Skogsstyrelsen         25    Norrbottens län  7451801   795352   \n",
       "4   NaN  Skogsstyrelsen          7    Norrbottens län  7413872   784183   \n",
       "8   NaN  Skogsstyrelsen         11    Norrbottens län  7413932   680313   \n",
       "10  NaN  Skogsstyrelsen         10    Norrbottens län  7385089   761983   \n",
       "15  NaN  Skogsstyrelsen         97  Västerbottens län  7234732   754306   \n",
       "\n",
       "    Aktualitet  Kommunnamn                         Metod        Kvalitet  \\\n",
       "2          NaN   Gällivare  Manuell kartering - satellit  Granskad - God   \n",
       "4          NaN   Gällivare  Manuell kartering - satellit  Granskad - God   \n",
       "8          NaN    Jokkmokk  Manuell kartering - satellit  Granskad - God   \n",
       "10         NaN    Jokkmokk  Manuell kartering - satellit  Granskad - God   \n",
       "15         NaN  Skellefteå  Manuell kartering - satellit  Granskad - God   \n",
       "\n",
       "                                            Kommentar  OBJECTID    Laddatum  \\\n",
       "2                   Redan karterad med dålig kvalitet         3  2018-11-12   \n",
       "4                                                 NaN         5  2018-11-12   \n",
       "8                                                 NaN         9  2018-11-12   \n",
       "10                                                NaN        11  2018-11-12   \n",
       "15  Utökning av UngBrandomrade_180810. Trol återan...        16  2018-11-12   \n",
       "\n",
       "    Lopnr     shape_STAr   shape_STLe  \n",
       "2       0  252826.302246  2094.482984  \n",
       "4       0   70582.433105  1137.325233  \n",
       "8       0  109904.416504  1483.892367  \n",
       "10      0   99592.334473  1353.843407  \n",
       "15      0  974801.870117  5030.334674  "
      ]
     },
     "metadata": {},
     "output_type": "display_data"
    },
    {
     "data": {
      "image/png": "[encoded data removed]",
      "text/plain": [
       "<Figure size 720x720 with 1 Axes>"
      ]
     },
     "metadata": {
      "needs_background": "light"
     },
     "output_type": "display_data"
    }
   ],
   "source": [
    "dbf = Dbf5('data/brand.dbf')\n",
    "df = dbf.to_dataframe()\n",
    "df = df[df.GISHektar > 5]\n",
    "x = df[\"CenterY\"]/10000\n",
    "y = df[\"CenterX\"]/10000\n",
    "print(\"Total fires: {}\".format(len(df.index)))\n",
    "display(df.head())\n",
    "plt.figure(figsize=(10,10))\n",
    "plt.scatter(x, y)\n",
    "plt.hlines(lines,30,90)\n",
    "plt.axis('equal')\n",
    "\n",
    "\n",
    "plt.show()\n"
   ]
  },
  {
   "cell_type": "code",
   "execution_count": null,
   "metadata": {
    "scrolled": true
   },
   "outputs": [],
   "source": []
  },
  {
   "cell_type": "code",
   "execution_count": null,
   "metadata": {},
   "outputs": [],
   "source": []
  },
  {
   "cell_type": "code",
   "execution_count": null,
   "metadata": {},
   "outputs": [],
   "source": []
  }
 ],
 "metadata": {
  "kernelspec": {
   "display_name": "Python 3",
   "language": "python",
   "name": "python3"
  },
  "language_info": {
   "codemirror_mode": {
    "name": "ipython",
    "version": 3
   },
   "file_extension": ".py",
   "mimetype": "text/x-python",
   "name": "python",
   "nbconvert_exporter": "python",
   "pygments_lexer": "ipython3",
   "version": "3.7.2"
  }
 },
 "nbformat": 4,
 "nbformat_minor": 2
}
