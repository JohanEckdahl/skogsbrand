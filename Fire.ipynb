{
 "cells": [
  {
   "cell_type": "code",
   "execution_count": 1,
   "metadata": {
    "scrolled": true
   },
   "outputs": [],
   "source": [
    "%%javascript\n",
    "IPython.OutputArea.prototype._should_scroll = function(lines) {\n",
    "    return false;\n",
    "}"
   ]
  },
  {
   "cell_type": "code",
   "execution_count": 2,
   "metadata": {
    "scrolled": false
   },
   "outputs": [
    {
     "name": "stdout",
     "output_type": "stream",
     "text": [
      "PyTables is not installed. No support for HDF output.\n",
      "SQLalchemy is not installed. No support for SQL output.\n"
     ]
    }
   ],
   "source": [
    "from functions import *\n",
    "from simpledbf import Dbf5\n",
    "\n",
    "%matplotlib inline\n",
    "from IPython.display import Image\n",
    "import pandas as pd\n",
    "pd.options.display.max_colwidth = 200\n",
    "pd.set_option('display.max_rows', None)\n"
   ]
  },
  {
   "cell_type": "code",
   "execution_count": null,
   "metadata": {},
   "outputs": [],
   "source": []
  },
  {
   "cell_type": "code",
   "execution_count": 3,
   "metadata": {
    "scrolled": true
   },
   "outputs": [],
   "source": [
    "line_count = 6\n",
    "top, bottom = 750, 595\n",
    "lines = [top - (top-bottom)/line_count*x for x in range(line_count)]\n"
   ]
  },
  {
   "cell_type": "code",
   "execution_count": 8,
   "metadata": {
    "scrolled": true
   },
   "outputs": [
    {
     "name": "stdout",
     "output_type": "stream",
     "text": [
      "Total fires: 58\n",
      "Total fires: 58\n"
     ]
    },
    {
     "data": {
      "image/png": "[encoded data removed]",
      "text/plain": [
       "<Figure size 288x288 with 1 Axes>"
      ]
     },
     "metadata": {
      "needs_background": "light"
     },
     "output_type": "display_data"
    },
    {
     "data": {
      "image/png": "[encoded data removed]",
      "text/plain": [
       "<Figure size 648x648 with 1 Axes>"
      ]
     },
     "metadata": {
      "needs_background": "light"
     },
     "output_type": "display_data"
    }
   ],
   "source": [
    "name = '/home/johan/Documents/Programming/skogsbrand/db.sqlite3'\n",
    "name = '/home/johan/Desktop/skogsbrand.sqlite'\n",
    "db = SQLiteDB(name)\n",
    "df = db.read(\"SELECT * FROM skogstyrelsen_brand\")\n",
    "db.disconnect\n",
    "#df = df.drop([ \"Producent\", \"Lopnr\", \"Laddatum\", \"Aktualitet\", \"shape_STAr\", \"shape_STLe\"], axis = 1)\n",
    "#df['link'] = \"https://kartor.skogsstyrelsen.se/kartorapp/?startapp=skogligagrunddata&x=\"+df.CenterX.astype(str)+\"&y=\"+df.CenterY.astype(str)+\"&scale=600&bg=KARTA\"\n",
    "\n",
    "\n",
    "\n",
    "\n",
    "def selected(df):\n",
    "    df = df[df.johan_quality >=2]\n",
    "    return df\n",
    "def unselected(df):\n",
    "    df = df[df.johan_quality.isnull()]\n",
    "    #df = df[df.GISHektar > 3]\n",
    "    df = df.sort_values(by=['centery'])\n",
    "    return df\n",
    "def zone(df, zone):\n",
    "    df = df[df.centerx < lines[-1+zone]*10000]\n",
    "    df = df[df.centerx > lines[0+zone]*10000]\n",
    "    return df\n",
    "def slope(df):\n",
    "    df2 = Dbf5('/home/johan/Desktop/confused/firesites.dbf').to_dataframe()\n",
    "    df2 = df2[df2.slope10 == 1]\n",
    "    df2 = df2[df2.slope30 == 0]\n",
    "    df = df[df.OBJECTID.isin(df2.OBJECTID)]\n",
    "    return df\n",
    "\n",
    "sites_per_zone(df, lines)\n",
    "df = selected(df)\n",
    "#df = unselected(df)\n",
    "#df = zone(df,1)\n",
    "#df = slope(df)\n",
    "\n",
    "#df = df[df.OBJECTID.isin([100,325,161,131,171,124])] #OLD GROWTH\n",
    "print(\"Total fires: {}\".format(len(df.index)))\n",
    "plot(df, lines)\n",
    "\n",
    "\n"
   ]
  },
  {
   "cell_type": "code",
   "execution_count": null,
   "metadata": {},
   "outputs": [],
   "source": []
  },
  {
   "cell_type": "code",
   "execution_count": null,
   "metadata": {},
   "outputs": [],
   "source": []
  },
  {
   "cell_type": "code",
   "execution_count": null,
   "metadata": {},
   "outputs": [],
   "source": []
  },
  {
   "cell_type": "code",
   "execution_count": 5,
   "metadata": {},
   "outputs": [],
   "source": [
    "name = '/Users/johan/Documents/Programming/skogsbrand/db.sqlite3'\n",
    "\n",
    "#df = calculate_walk(name)\n",
    "#display(df)\n",
    "#for index, row in df.iterrows(): print(\"UPDATE fires_site SET walk = {} WHERE id = {};\".format(row['Walk'], index+1))"
   ]
  },
  {
   "cell_type": "code",
   "execution_count": 6,
   "metadata": {},
   "outputs": [
    {
     "data": {
      "text/html": [
       "<div>\n",
       "<style scoped>\n",
       "    .dataframe tbody tr th:only-of-type {\n",
       "        vertical-align: middle;\n",
       "    }\n",
       "\n",
       "    .dataframe tbody tr th {\n",
       "        vertical-align: top;\n",
       "    }\n",
       "\n",
       "    .dataframe thead th {\n",
       "        text-align: right;\n",
       "    }\n",
       "</style>\n",
       "<table border=\"1\" class=\"dataframe\">\n",
       "  <thead>\n",
       "    <tr style=\"text-align: right;\">\n",
       "      <th></th>\n",
       "      <th>id</th>\n",
       "      <th>NAMN</th>\n",
       "      <th>GISHektar</th>\n",
       "      <th>Lannamn</th>\n",
       "      <th>CenterX</th>\n",
       "      <th>CenterY</th>\n",
       "      <th>Kommunnamn</th>\n",
       "      <th>Metod</th>\n",
       "      <th>Kvalitet</th>\n",
       "      <th>Kommentar</th>\n",
       "      <th>OBJECTID</th>\n",
       "      <th>quality</th>\n",
       "      <th>link</th>\n",
       "    </tr>\n",
       "  </thead>\n",
       "  <tbody>\n",
       "    <tr>\n",
       "      <th>0</th>\n",
       "      <td>99</td>\n",
       "      <td>None</td>\n",
       "      <td>88</td>\n",
       "      <td>Västerbottens län</td>\n",
       "      <td>7175755.0</td>\n",
       "      <td>631677.0</td>\n",
       "      <td>Lycksele</td>\n",
       "      <td>Manuell kartering - satellit</td>\n",
       "      <td>Granskad - God</td>\n",
       "      <td>ny kartering av Copernicus polygon</td>\n",
       "      <td>99</td>\n",
       "      <td>1.0</td>\n",
       "      <td>https://kartor.skogsstyrelsen.se/kartorapp/?startapp=skogligagrunddata&amp;x=7175755.0&amp;y=631677.0&amp;scale=37502.2872&amp;bg=KARTA</td>\n",
       "    </tr>\n",
       "    <tr>\n",
       "      <th>1</th>\n",
       "      <td>123</td>\n",
       "      <td>None</td>\n",
       "      <td>16</td>\n",
       "      <td>Kronobergs län</td>\n",
       "      <td>6303240.0</td>\n",
       "      <td>526381.0</td>\n",
       "      <td>Lessebo</td>\n",
       "      <td>Manuell kartering - satellit</td>\n",
       "      <td>Granskad - God</td>\n",
       "      <td>ny kartering av Copernicus polygon</td>\n",
       "      <td>123</td>\n",
       "      <td>1.0</td>\n",
       "      <td>https://kartor.skogsstyrelsen.se/kartorapp/?startapp=skogligagrunddata&amp;x=6303240.0&amp;y=526381.0&amp;scale=37502.2872&amp;bg=KARTA</td>\n",
       "    </tr>\n",
       "    <tr>\n",
       "      <th>2</th>\n",
       "      <td>130</td>\n",
       "      <td>None</td>\n",
       "      <td>28</td>\n",
       "      <td>Kalmar län</td>\n",
       "      <td>6369859.0</td>\n",
       "      <td>571743.0</td>\n",
       "      <td>Oskarshamn</td>\n",
       "      <td>Manuell kartering - satellit</td>\n",
       "      <td>Granskad - God</td>\n",
       "      <td>ny kartering av Copernicus polygon</td>\n",
       "      <td>130</td>\n",
       "      <td>2.0</td>\n",
       "      <td>https://kartor.skogsstyrelsen.se/kartorapp/?startapp=skogligagrunddata&amp;x=6369859.0&amp;y=571743.0&amp;scale=37502.2872&amp;bg=KARTA</td>\n",
       "    </tr>\n",
       "    <tr>\n",
       "      <th>3</th>\n",
       "      <td>137</td>\n",
       "      <td>None</td>\n",
       "      <td>51</td>\n",
       "      <td>Norrbottens län</td>\n",
       "      <td>7380131.0</td>\n",
       "      <td>859943.0</td>\n",
       "      <td>Överkalix</td>\n",
       "      <td>Manuell kartering - satellit</td>\n",
       "      <td>Granskad - God</td>\n",
       "      <td>ny kartering av Metria polygon med mindre justeringar</td>\n",
       "      <td>137</td>\n",
       "      <td>1.0</td>\n",
       "      <td>https://kartor.skogsstyrelsen.se/kartorapp/?startapp=skogligagrunddata&amp;x=7380131.0&amp;y=859943.0&amp;scale=37502.2872&amp;bg=KARTA</td>\n",
       "    </tr>\n",
       "    <tr>\n",
       "      <th>4</th>\n",
       "      <td>160</td>\n",
       "      <td>None</td>\n",
       "      <td>1</td>\n",
       "      <td>Gävleborgs län</td>\n",
       "      <td>6876181.0</td>\n",
       "      <td>546120.0</td>\n",
       "      <td>Ljusdal</td>\n",
       "      <td>Manuell kartering - satellit</td>\n",
       "      <td>Granskad - God</td>\n",
       "      <td>None</td>\n",
       "      <td>160</td>\n",
       "      <td>NaN</td>\n",
       "      <td>https://kartor.skogsstyrelsen.se/kartorapp/?startapp=skogligagrunddata&amp;x=6876181.0&amp;y=546120.0&amp;scale=37502.2872&amp;bg=KARTA</td>\n",
       "    </tr>\n",
       "    <tr>\n",
       "      <th>5</th>\n",
       "      <td>170</td>\n",
       "      <td>None</td>\n",
       "      <td>1</td>\n",
       "      <td>Dalarnas län</td>\n",
       "      <td>6791971.0</td>\n",
       "      <td>517157.0</td>\n",
       "      <td>Rättvik</td>\n",
       "      <td>Manuell kartering - satellit</td>\n",
       "      <td>Granskad - God</td>\n",
       "      <td>None</td>\n",
       "      <td>170</td>\n",
       "      <td>NaN</td>\n",
       "      <td>https://kartor.skogsstyrelsen.se/kartorapp/?startapp=skogligagrunddata&amp;x=6791971.0&amp;y=517157.0&amp;scale=37502.2872&amp;bg=KARTA</td>\n",
       "    </tr>\n",
       "    <tr>\n",
       "      <th>6</th>\n",
       "      <td>324</td>\n",
       "      <td>None</td>\n",
       "      <td>31</td>\n",
       "      <td>Västerbottens län</td>\n",
       "      <td>7100306.0</td>\n",
       "      <td>731717.0</td>\n",
       "      <td>Vännäs</td>\n",
       "      <td>Manuell kartering - satellit</td>\n",
       "      <td>Granskad - God</td>\n",
       "      <td>Brand utmed järnväg, består av flera mindre områden (multi part features)</td>\n",
       "      <td>324</td>\n",
       "      <td>3.0</td>\n",
       "      <td>https://kartor.skogsstyrelsen.se/kartorapp/?startapp=skogligagrunddata&amp;x=7100306.0&amp;y=731717.0&amp;scale=37502.2872&amp;bg=KARTA</td>\n",
       "    </tr>\n",
       "  </tbody>\n",
       "</table>\n",
       "</div>"
      ],
      "text/plain": [
       "    id  NAMN  GISHektar            Lannamn    CenterX   CenterY  Kommunnamn  \\\n",
       "0   99  None         88  Västerbottens län  7175755.0  631677.0    Lycksele   \n",
       "1  123  None         16     Kronobergs län  6303240.0  526381.0     Lessebo   \n",
       "2  130  None         28         Kalmar län  6369859.0  571743.0  Oskarshamn   \n",
       "3  137  None         51    Norrbottens län  7380131.0  859943.0   Överkalix   \n",
       "4  160  None          1     Gävleborgs län  6876181.0  546120.0     Ljusdal   \n",
       "5  170  None          1       Dalarnas län  6791971.0  517157.0     Rättvik   \n",
       "6  324  None         31  Västerbottens län  7100306.0  731717.0      Vännäs   \n",
       "\n",
       "                          Metod        Kvalitet  \\\n",
       "0  Manuell kartering - satellit  Granskad - God   \n",
       "1  Manuell kartering - satellit  Granskad - God   \n",
       "2  Manuell kartering - satellit  Granskad - God   \n",
       "3  Manuell kartering - satellit  Granskad - God   \n",
       "4  Manuell kartering - satellit  Granskad - God   \n",
       "5  Manuell kartering - satellit  Granskad - God   \n",
       "6  Manuell kartering - satellit  Granskad - God   \n",
       "\n",
       "                                                                   Kommentar  \\\n",
       "0                                         ny kartering av Copernicus polygon   \n",
       "1                                         ny kartering av Copernicus polygon   \n",
       "2                                         ny kartering av Copernicus polygon   \n",
       "3                      ny kartering av Metria polygon med mindre justeringar   \n",
       "4                                                                       None   \n",
       "5                                                                       None   \n",
       "6  Brand utmed järnväg, består av flera mindre områden (multi part features)   \n",
       "\n",
       "   OBJECTID  quality  \\\n",
       "0        99      1.0   \n",
       "1       123      1.0   \n",
       "2       130      2.0   \n",
       "3       137      1.0   \n",
       "4       160      NaN   \n",
       "5       170      NaN   \n",
       "6       324      3.0   \n",
       "\n",
       "                                                                                                                      link  \n",
       "0  https://kartor.skogsstyrelsen.se/kartorapp/?startapp=skogligagrunddata&x=7175755.0&y=631677.0&scale=37502.2872&bg=KARTA  \n",
       "1  https://kartor.skogsstyrelsen.se/kartorapp/?startapp=skogligagrunddata&x=6303240.0&y=526381.0&scale=37502.2872&bg=KARTA  \n",
       "2  https://kartor.skogsstyrelsen.se/kartorapp/?startapp=skogligagrunddata&x=6369859.0&y=571743.0&scale=37502.2872&bg=KARTA  \n",
       "3  https://kartor.skogsstyrelsen.se/kartorapp/?startapp=skogligagrunddata&x=7380131.0&y=859943.0&scale=37502.2872&bg=KARTA  \n",
       "4  https://kartor.skogsstyrelsen.se/kartorapp/?startapp=skogligagrunddata&x=6876181.0&y=546120.0&scale=37502.2872&bg=KARTA  \n",
       "5  https://kartor.skogsstyrelsen.se/kartorapp/?startapp=skogligagrunddata&x=6791971.0&y=517157.0&scale=37502.2872&bg=KARTA  \n",
       "6  https://kartor.skogsstyrelsen.se/kartorapp/?startapp=skogligagrunddata&x=7100306.0&y=731717.0&scale=37502.2872&bg=KARTA  "
      ]
     },
     "metadata": {},
     "output_type": "display_data"
    }
   ],
   "source": [
    "name = '/home/johan/Documents/Programming/skogsbrand/db.sqlite3'\n",
    "db = SQLiteDB(name)\n",
    "#df = db.read(\"SELECT * FROM fires_site ORDER BY fire_id\")\n",
    "df = db.read(\"SELECT * FROM fires_fire WHERE id IN (123, 170, 130, 160, 324, 99, 137) ORDER BY id\")\n",
    "db.disconnect\n",
    "df = df.drop([\"summary\", \"Producent\", \"Lopnr\", \"Laddatum\", \"Aktualitet\", \"shape_STAr\", \"shape_STLe\"], axis = 1)\n",
    "df['link'] = \"https://kartor.skogsstyrelsen.se/kartorapp/?startapp=skogligagrunddata&x=\"+df.CenterX.astype(str)+\"&y=\"+df.CenterY.astype(str)+\"&scale=37502.2872&bg=KARTA\"\n",
    "\n",
    "#df.to_csv(\"/home/johan/Desktop/parking_sites.csv\")\n",
    "display(df)"
   ]
  },
  {
   "cell_type": "code",
   "execution_count": null,
   "metadata": {},
   "outputs": [],
   "source": []
  },
  {
   "cell_type": "code",
   "execution_count": 7,
   "metadata": {},
   "outputs": [
    {
     "ename": "FileNotFoundError",
     "evalue": "[Errno 2] File b'/home/johan/Desktop/confused/points_sweref.csv' does not exist: b'/home/johan/Desktop/confused/points_sweref.csv'",
     "output_type": "error",
     "traceback": [
      "\u001b[0;31m---------------------------------------------------------------------------\u001b[0m",
      "\u001b[0;31mFileNotFoundError\u001b[0m                         Traceback (most recent call last)",
      "\u001b[0;32m<ipython-input-7-d933fa1bd83e>\u001b[0m in \u001b[0;36m<module>\u001b[0;34m\u001b[0m\n\u001b[1;32m      4\u001b[0m \u001b[0mdb\u001b[0m\u001b[0;34m.\u001b[0m\u001b[0mdisconnect\u001b[0m\u001b[0;34m\u001b[0m\u001b[0;34m\u001b[0m\u001b[0m\n\u001b[1;32m      5\u001b[0m \u001b[0;34m\u001b[0m\u001b[0m\n\u001b[0;32m----> 6\u001b[0;31m \u001b[0mdf1\u001b[0m \u001b[0;34m=\u001b[0m \u001b[0mpd\u001b[0m\u001b[0;34m.\u001b[0m\u001b[0mread_csv\u001b[0m\u001b[0;34m(\u001b[0m\u001b[0;34m\"/home/johan/Desktop/confused/points_sweref.csv\"\u001b[0m\u001b[0;34m,\u001b[0m \u001b[0mindex_col\u001b[0m\u001b[0;34m=\u001b[0m\u001b[0;36m1\u001b[0m\u001b[0;34m)\u001b[0m\u001b[0;34m\u001b[0m\u001b[0;34m\u001b[0m\u001b[0m\n\u001b[0m\u001b[1;32m      7\u001b[0m \u001b[0mdf\u001b[0m \u001b[0;34m=\u001b[0m \u001b[0mpd\u001b[0m\u001b[0;34m.\u001b[0m\u001b[0mread_csv\u001b[0m\u001b[0;34m(\u001b[0m\u001b[0;34m\"/home/johan/Desktop/confused/ge_samplesites_pts.csv\"\u001b[0m\u001b[0;34m,\u001b[0m \u001b[0mindex_col\u001b[0m\u001b[0;34m=\u001b[0m\u001b[0;36m1\u001b[0m\u001b[0;34m)\u001b[0m\u001b[0;34m\u001b[0m\u001b[0;34m\u001b[0m\u001b[0m\n\u001b[1;32m      8\u001b[0m \u001b[0mdf\u001b[0m\u001b[0;34m[\u001b[0m\u001b[0;34m'X'\u001b[0m\u001b[0;34m]\u001b[0m \u001b[0;34m=\u001b[0m \u001b[0mdf1\u001b[0m\u001b[0;34m[\u001b[0m\u001b[0;34m'POINT_X'\u001b[0m\u001b[0;34m]\u001b[0m\u001b[0;34m\u001b[0m\u001b[0;34m\u001b[0m\u001b[0m\n",
      "\u001b[0;32m~/.local/lib/python3.6/site-packages/pandas/io/parsers.py\u001b[0m in \u001b[0;36mparser_f\u001b[0;34m(filepath_or_buffer, sep, delimiter, header, names, index_col, usecols, squeeze, prefix, mangle_dupe_cols, dtype, engine, converters, true_values, false_values, skipinitialspace, skiprows, skipfooter, nrows, na_values, keep_default_na, na_filter, verbose, skip_blank_lines, parse_dates, infer_datetime_format, keep_date_col, date_parser, dayfirst, iterator, chunksize, compression, thousands, decimal, lineterminator, quotechar, quoting, doublequote, escapechar, comment, encoding, dialect, tupleize_cols, error_bad_lines, warn_bad_lines, delim_whitespace, low_memory, memory_map, float_precision)\u001b[0m\n\u001b[1;32m    700\u001b[0m                     skip_blank_lines=skip_blank_lines)\n\u001b[1;32m    701\u001b[0m \u001b[0;34m\u001b[0m\u001b[0m\n\u001b[0;32m--> 702\u001b[0;31m         \u001b[0;32mreturn\u001b[0m \u001b[0m_read\u001b[0m\u001b[0;34m(\u001b[0m\u001b[0mfilepath_or_buffer\u001b[0m\u001b[0;34m,\u001b[0m \u001b[0mkwds\u001b[0m\u001b[0;34m)\u001b[0m\u001b[0;34m\u001b[0m\u001b[0;34m\u001b[0m\u001b[0m\n\u001b[0m\u001b[1;32m    703\u001b[0m \u001b[0;34m\u001b[0m\u001b[0m\n\u001b[1;32m    704\u001b[0m     \u001b[0mparser_f\u001b[0m\u001b[0;34m.\u001b[0m\u001b[0m__name__\u001b[0m \u001b[0;34m=\u001b[0m \u001b[0mname\u001b[0m\u001b[0;34m\u001b[0m\u001b[0;34m\u001b[0m\u001b[0m\n",
      "\u001b[0;32m~/.local/lib/python3.6/site-packages/pandas/io/parsers.py\u001b[0m in \u001b[0;36m_read\u001b[0;34m(filepath_or_buffer, kwds)\u001b[0m\n\u001b[1;32m    427\u001b[0m \u001b[0;34m\u001b[0m\u001b[0m\n\u001b[1;32m    428\u001b[0m     \u001b[0;31m# Create the parser.\u001b[0m\u001b[0;34m\u001b[0m\u001b[0;34m\u001b[0m\u001b[0;34m\u001b[0m\u001b[0m\n\u001b[0;32m--> 429\u001b[0;31m     \u001b[0mparser\u001b[0m \u001b[0;34m=\u001b[0m \u001b[0mTextFileReader\u001b[0m\u001b[0;34m(\u001b[0m\u001b[0mfilepath_or_buffer\u001b[0m\u001b[0;34m,\u001b[0m \u001b[0;34m**\u001b[0m\u001b[0mkwds\u001b[0m\u001b[0;34m)\u001b[0m\u001b[0;34m\u001b[0m\u001b[0;34m\u001b[0m\u001b[0m\n\u001b[0m\u001b[1;32m    430\u001b[0m \u001b[0;34m\u001b[0m\u001b[0m\n\u001b[1;32m    431\u001b[0m     \u001b[0;32mif\u001b[0m \u001b[0mchunksize\u001b[0m \u001b[0;32mor\u001b[0m \u001b[0miterator\u001b[0m\u001b[0;34m:\u001b[0m\u001b[0;34m\u001b[0m\u001b[0;34m\u001b[0m\u001b[0m\n",
      "\u001b[0;32m~/.local/lib/python3.6/site-packages/pandas/io/parsers.py\u001b[0m in \u001b[0;36m__init__\u001b[0;34m(self, f, engine, **kwds)\u001b[0m\n\u001b[1;32m    893\u001b[0m             \u001b[0mself\u001b[0m\u001b[0;34m.\u001b[0m\u001b[0moptions\u001b[0m\u001b[0;34m[\u001b[0m\u001b[0;34m'has_index_names'\u001b[0m\u001b[0;34m]\u001b[0m \u001b[0;34m=\u001b[0m \u001b[0mkwds\u001b[0m\u001b[0;34m[\u001b[0m\u001b[0;34m'has_index_names'\u001b[0m\u001b[0;34m]\u001b[0m\u001b[0;34m\u001b[0m\u001b[0;34m\u001b[0m\u001b[0m\n\u001b[1;32m    894\u001b[0m \u001b[0;34m\u001b[0m\u001b[0m\n\u001b[0;32m--> 895\u001b[0;31m         \u001b[0mself\u001b[0m\u001b[0;34m.\u001b[0m\u001b[0m_make_engine\u001b[0m\u001b[0;34m(\u001b[0m\u001b[0mself\u001b[0m\u001b[0;34m.\u001b[0m\u001b[0mengine\u001b[0m\u001b[0;34m)\u001b[0m\u001b[0;34m\u001b[0m\u001b[0;34m\u001b[0m\u001b[0m\n\u001b[0m\u001b[1;32m    896\u001b[0m \u001b[0;34m\u001b[0m\u001b[0m\n\u001b[1;32m    897\u001b[0m     \u001b[0;32mdef\u001b[0m \u001b[0mclose\u001b[0m\u001b[0;34m(\u001b[0m\u001b[0mself\u001b[0m\u001b[0;34m)\u001b[0m\u001b[0;34m:\u001b[0m\u001b[0;34m\u001b[0m\u001b[0;34m\u001b[0m\u001b[0m\n",
      "\u001b[0;32m~/.local/lib/python3.6/site-packages/pandas/io/parsers.py\u001b[0m in \u001b[0;36m_make_engine\u001b[0;34m(self, engine)\u001b[0m\n\u001b[1;32m   1120\u001b[0m     \u001b[0;32mdef\u001b[0m \u001b[0m_make_engine\u001b[0m\u001b[0;34m(\u001b[0m\u001b[0mself\u001b[0m\u001b[0;34m,\u001b[0m \u001b[0mengine\u001b[0m\u001b[0;34m=\u001b[0m\u001b[0;34m'c'\u001b[0m\u001b[0;34m)\u001b[0m\u001b[0;34m:\u001b[0m\u001b[0;34m\u001b[0m\u001b[0;34m\u001b[0m\u001b[0m\n\u001b[1;32m   1121\u001b[0m         \u001b[0;32mif\u001b[0m \u001b[0mengine\u001b[0m \u001b[0;34m==\u001b[0m \u001b[0;34m'c'\u001b[0m\u001b[0;34m:\u001b[0m\u001b[0;34m\u001b[0m\u001b[0;34m\u001b[0m\u001b[0m\n\u001b[0;32m-> 1122\u001b[0;31m             \u001b[0mself\u001b[0m\u001b[0;34m.\u001b[0m\u001b[0m_engine\u001b[0m \u001b[0;34m=\u001b[0m \u001b[0mCParserWrapper\u001b[0m\u001b[0;34m(\u001b[0m\u001b[0mself\u001b[0m\u001b[0;34m.\u001b[0m\u001b[0mf\u001b[0m\u001b[0;34m,\u001b[0m \u001b[0;34m**\u001b[0m\u001b[0mself\u001b[0m\u001b[0;34m.\u001b[0m\u001b[0moptions\u001b[0m\u001b[0;34m)\u001b[0m\u001b[0;34m\u001b[0m\u001b[0;34m\u001b[0m\u001b[0m\n\u001b[0m\u001b[1;32m   1123\u001b[0m         \u001b[0;32melse\u001b[0m\u001b[0;34m:\u001b[0m\u001b[0;34m\u001b[0m\u001b[0;34m\u001b[0m\u001b[0m\n\u001b[1;32m   1124\u001b[0m             \u001b[0;32mif\u001b[0m \u001b[0mengine\u001b[0m \u001b[0;34m==\u001b[0m \u001b[0;34m'python'\u001b[0m\u001b[0;34m:\u001b[0m\u001b[0;34m\u001b[0m\u001b[0;34m\u001b[0m\u001b[0m\n",
      "\u001b[0;32m~/.local/lib/python3.6/site-packages/pandas/io/parsers.py\u001b[0m in \u001b[0;36m__init__\u001b[0;34m(self, src, **kwds)\u001b[0m\n\u001b[1;32m   1851\u001b[0m         \u001b[0mkwds\u001b[0m\u001b[0;34m[\u001b[0m\u001b[0;34m'usecols'\u001b[0m\u001b[0;34m]\u001b[0m \u001b[0;34m=\u001b[0m \u001b[0mself\u001b[0m\u001b[0;34m.\u001b[0m\u001b[0musecols\u001b[0m\u001b[0;34m\u001b[0m\u001b[0;34m\u001b[0m\u001b[0m\n\u001b[1;32m   1852\u001b[0m \u001b[0;34m\u001b[0m\u001b[0m\n\u001b[0;32m-> 1853\u001b[0;31m         \u001b[0mself\u001b[0m\u001b[0;34m.\u001b[0m\u001b[0m_reader\u001b[0m \u001b[0;34m=\u001b[0m \u001b[0mparsers\u001b[0m\u001b[0;34m.\u001b[0m\u001b[0mTextReader\u001b[0m\u001b[0;34m(\u001b[0m\u001b[0msrc\u001b[0m\u001b[0;34m,\u001b[0m \u001b[0;34m**\u001b[0m\u001b[0mkwds\u001b[0m\u001b[0;34m)\u001b[0m\u001b[0;34m\u001b[0m\u001b[0;34m\u001b[0m\u001b[0m\n\u001b[0m\u001b[1;32m   1854\u001b[0m         \u001b[0mself\u001b[0m\u001b[0;34m.\u001b[0m\u001b[0munnamed_cols\u001b[0m \u001b[0;34m=\u001b[0m \u001b[0mself\u001b[0m\u001b[0;34m.\u001b[0m\u001b[0m_reader\u001b[0m\u001b[0;34m.\u001b[0m\u001b[0munnamed_cols\u001b[0m\u001b[0;34m\u001b[0m\u001b[0;34m\u001b[0m\u001b[0m\n\u001b[1;32m   1855\u001b[0m \u001b[0;34m\u001b[0m\u001b[0m\n",
      "\u001b[0;32mpandas/_libs/parsers.pyx\u001b[0m in \u001b[0;36mpandas._libs.parsers.TextReader.__cinit__\u001b[0;34m()\u001b[0m\n",
      "\u001b[0;32mpandas/_libs/parsers.pyx\u001b[0m in \u001b[0;36mpandas._libs.parsers.TextReader._setup_parser_source\u001b[0;34m()\u001b[0m\n",
      "\u001b[0;31mFileNotFoundError\u001b[0m: [Errno 2] File b'/home/johan/Desktop/confused/points_sweref.csv' does not exist: b'/home/johan/Desktop/confused/points_sweref.csv'"
     ]
    }
   ],
   "source": [
    "name = '/home/johan/Documents/Programming/skogsbrand/db.sqlite3'\n",
    "db = SQLiteDB(name)\n",
    "df2 = db.read(\"SELECT * FROM fires_site ORDER BY fire_id\")\n",
    "db.disconnect\n",
    "\n",
    "df1 = pd.read_csv(\"/home/johan/Desktop/confused/points_sweref.csv\", index_col=1)\n",
    "df = pd.read_csv(\"/home/johan/Desktop/confused/ge_samplesites_pts.csv\", index_col=1)\n",
    "df['X'] = df1['POINT_X']\n",
    "df['Y'] = df1['POINT_Y']\n",
    "\n",
    "df = df[df.latitude != df.POINT_Y]\n",
    "df = df.drop([\"FID\",\"parking_id\",\"comment\", \"walk\",\"rank\", \"latitude\", \"longitude\"], axis = 1)\n",
    "df = df.rename(index=str, columns={\"POINT_X\": \"longitude\", \"POINT_Y\": \"latitude\"})\n",
    "df2.to_csv(\"/home/johan/Desktop/allpoints.csv\")\n",
    "df['link'] = \"https://kartor.skogsstyrelsen.se/kartorapp/?startapp=skogligagrunddata&x=\"+df.Y.astype(str)+\"&y=\"+df.X.astype(str)+\"&scale=37502.2872&bg=KARTA\"\n",
    "#display(df2)"
   ]
  },
  {
   "cell_type": "code",
   "execution_count": null,
   "metadata": {},
   "outputs": [],
   "source": [
    "pd.set_option('display.max_columns', 500)\n",
    "\n",
    "#df = Dbf5('/home/johan/Desktop/firesites.dbf').to_dataframe()\n",
    "#df.head()"
   ]
  },
  {
   "cell_type": "code",
   "execution_count": null,
   "metadata": {},
   "outputs": [],
   "source": [
    "#df = pd.read_csv(\"/home/johan/Desktop/new_points.csv\", index_col=0)\n",
    "for index, row in df.iterrows():\n",
    "    pass#print('UPDATE fires_site SET latitude = {}, longitude = {} WHERE id = {};'.format(row['latitude'],row['longitude'],index))"
   ]
  },
  {
   "cell_type": "code",
   "execution_count": null,
   "metadata": {
    "scrolled": true
   },
   "outputs": [],
   "source": [
    "name = '/home/johan/Documents/Programming/skogsbrand/db.sqlite3'\n",
    "db = SQLiteDB(name)\n",
    "df = db.read(\"SELECT * FROM fires_fire ORDER BY gishektar\")\n",
    "db.disconnect\n",
    "\n",
    "for index, row in df.iterrows():\n",
    "    if row['summary']:\n",
    "        pass#print('UPDATE skogstyrelsen_brand SET johan_quality = {}, johan_summary = \"{}\" WHERE ogc_fid = {};'.format(int(row['quality']), row['summary'], index))\n",
    "\n",
    "#df.to_csv('/home/johan/Desktop/parking.csv')"
   ]
  },
  {
   "cell_type": "code",
   "execution_count": null,
   "metadata": {},
   "outputs": [],
   "source": [
    "import geopandas as gp\n",
    "df = gp.read_file('/home/johan/Desktop/Skogstyrelsen_Data/brand.shp')\n",
    "\n",
    "#>display(df)"
   ]
  },
  {
   "cell_type": "code",
   "execution_count": null,
   "metadata": {},
   "outputs": [],
   "source": [
    "\n",
    "class Database():\n",
    "    \n",
    "    def __init__(self, db_name, id_name):\n",
    "            self.id_name = id_name\n",
    "            self.connection = self.connect(db_name)\n",
    "            self.connection.enable_load_extension(True)\n",
    "            c = self.connection.cursor()\n",
    "            sql = 'SELECT load_extension(\"mod_spatialite.so\");'\n",
    "            c.execute(sql)\n",
    "     \n",
    "    \n",
    "    def read(self, sql): pass\n",
    "    \n",
    "    def connect(self,db_name): pass\n",
    "    \n",
    "    def insert(self, table_name, dataframe): print(\"yaa, inserted, get some!\")\n",
    "        \n",
    "    def disconnect(self): pass\n",
    "        \n",
    "    def __del__(self): self.disconnect()\n",
    "        \n",
    "\n",
    "class SQLiteDB(Database):\n",
    "    \n",
    "    def connect(self,db_name): return sqlite3.connect(db_name)\n",
    "\n",
    "    def read(self, sql): return pd.read_sql_query(sql, self.connection,\n",
    "                                                  index_col=self.id_name)\n",
    "    \n",
    "    def insert(self, table_name, dataframe):\n",
    "        dataframe.to_sql(table_name, self.connection,\n",
    "                         if_exists=\"append\", index = False)\n",
    "        \n",
    "    def disconnect(self): self.connection.close()\n"
   ]
  },
  {
   "cell_type": "code",
   "execution_count": null,
   "metadata": {},
   "outputs": [],
   "source": [
    "sql=\"SELECT fire_id, X(Geometry), Y(Geometry) FROM study_site\"\n",
    "db_name = '/home/johan/Desktop/skogsbrand.sqlite'\n",
    "db = SQLiteDB(db_name, 'fire_id')\n",
    "df2 = db.read(sql)\n",
    "db.disconnect\n",
    "display(df2)\n",
    "\n"
   ]
  },
  {
   "cell_type": "code",
   "execution_count": null,
   "metadata": {},
   "outputs": [],
   "source": [
    "conn = sqlite3.connect(name)\n",
    "\n",
    "conn.enable_load_extension(True)\n",
    "c = conn.cursor()\n",
    "sql = 'SELECT load_extension(\"mod_spatialite.so\");'\n",
    "sql1 = 'SELECT X(geometry) from study_site;'\n",
    "# Create table\n",
    "c.execute(sql)\n",
    "a = c.execute(sql1)\n",
    "\n",
    "# We can also close the connection if we are done with it.\n",
    "# Just be sure any changes have been committed or they will be lost.\n",
    "conn.close()"
   ]
  },
  {
   "cell_type": "code",
   "execution_count": null,
   "metadata": {},
   "outputs": [],
   "source": []
  }
 ],
 "metadata": {
  "kernelspec": {
   "display_name": "Python 3",
   "language": "python",
   "name": "python3"
  },
  "language_info": {
   "codemirror_mode": {
    "name": "ipython",
    "version": 3
   },
   "file_extension": ".py",
   "mimetype": "text/x-python",
   "name": "python",
   "nbconvert_exporter": "python",
   "pygments_lexer": "ipython3",
   "version": "3.6.8"
  }
 },
 "nbformat": 4,
 "nbformat_minor": 2
}
